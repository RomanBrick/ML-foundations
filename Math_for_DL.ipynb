{
  "nbformat": 4,
  "nbformat_minor": 0,
  "metadata": {
    "colab": {
      "provenance": [],
      "authorship_tag": "ABX9TyMMZxQF08sp3rInC6Roi0u7",
      "include_colab_link": true
    },
    "kernelspec": {
      "name": "python3",
      "display_name": "Python 3"
    },
    "language_info": {
      "name": "python"
    }
  },
  "cells": [
    {
      "cell_type": "markdown",
      "metadata": {
        "id": "view-in-github",
        "colab_type": "text"
      },
      "source": [
        "<a href=\"https://colab.research.google.com/github/RomanBrick/ML-foundations/blob/master/Math_for_DL.ipynb\" target=\"_parent\"><img src=\"https://colab.research.google.com/assets/colab-badge.svg\" alt=\"Open In Colab\"/></a>"
      ]
    },
    {
      "cell_type": "markdown",
      "source": [
        "## Math for Deep Learning\n"
      ],
      "metadata": {
        "id": "ya4GNq4OjgKj"
      }
    },
    {
      "cell_type": "markdown",
      "source": [
        "### NumPy"
      ],
      "metadata": {
        "id": "Yb2C3u6ojxmz"
      }
    },
    {
      "cell_type": "code",
      "execution_count": 1,
      "metadata": {
        "colab": {
          "base_uri": "https://localhost:8080/",
          "height": 35
        },
        "id": "FsxZdM-Gja6z",
        "outputId": "75896919-e499-4278-98af-6b1d7d520939"
      },
      "outputs": [
        {
          "output_type": "execute_result",
          "data": {
            "text/plain": [
              "'1.22.4'"
            ],
            "application/vnd.google.colaboratory.intrinsic+json": {
              "type": "string"
            }
          },
          "metadata": {},
          "execution_count": 1
        }
      ],
      "source": [
        "import numpy as np\n",
        "np.__version__"
      ]
    },
    {
      "cell_type": "code",
      "source": [
        "# One-dimention array 1D\n",
        "a=np.array([1,2,3,4,5])"
      ],
      "metadata": {
        "id": "0IdbUBAsj9D6"
      },
      "execution_count": 2,
      "outputs": []
    },
    {
      "cell_type": "code",
      "source": [
        "a"
      ],
      "metadata": {
        "colab": {
          "base_uri": "https://localhost:8080/"
        },
        "id": "WX9CqSpukDLj",
        "outputId": "b82f3668-bfcc-45b9-8e4e-51d0e160fe45"
      },
      "execution_count": 3,
      "outputs": [
        {
          "output_type": "execute_result",
          "data": {
            "text/plain": [
              "array([1, 2, 3, 4, 5])"
            ]
          },
          "metadata": {},
          "execution_count": 3
        }
      ]
    },
    {
      "cell_type": "code",
      "source": [
        "a.size"
      ],
      "metadata": {
        "colab": {
          "base_uri": "https://localhost:8080/"
        },
        "id": "n6MaAR3LkEkZ",
        "outputId": "493e80f7-2f21-4600-a423-da7d0fe48ac9"
      },
      "execution_count": 4,
      "outputs": [
        {
          "output_type": "execute_result",
          "data": {
            "text/plain": [
              "5"
            ]
          },
          "metadata": {},
          "execution_count": 4
        }
      ]
    },
    {
      "cell_type": "code",
      "source": [
        "a.shape"
      ],
      "metadata": {
        "colab": {
          "base_uri": "https://localhost:8080/"
        },
        "id": "3xxwSyr8kHyZ",
        "outputId": "044c5043-d309-40cf-8909-b5732927be75"
      },
      "execution_count": 5,
      "outputs": [
        {
          "output_type": "execute_result",
          "data": {
            "text/plain": [
              "(5,)"
            ]
          },
          "metadata": {},
          "execution_count": 5
        }
      ]
    },
    {
      "cell_type": "markdown",
      "source": [
        "### 2D - two-dimention array"
      ],
      "metadata": {
        "id": "tTZVYpUMzbmJ"
      }
    },
    {
      "cell_type": "code",
      "source": [
        "\n",
        "b = np.array([[1,2,4,5,6],[6,5,4,3,6]])\n",
        "print(b)"
      ],
      "metadata": {
        "colab": {
          "base_uri": "https://localhost:8080/"
        },
        "id": "ptNnlnmAkdes",
        "outputId": "fbce5e95-669b-4822-c298-f25e605aa05a"
      },
      "execution_count": 8,
      "outputs": [
        {
          "output_type": "stream",
          "name": "stdout",
          "text": [
            "[[1 2 4 5 6]\n",
            " [6 5 4 3 6]]\n"
          ]
        }
      ]
    },
    {
      "cell_type": "code",
      "source": [
        "b.shape"
      ],
      "metadata": {
        "colab": {
          "base_uri": "https://localhost:8080/"
        },
        "id": "mCLwn6NSk0tR",
        "outputId": "0cf5152c-42d1-4c57-a98e-d3e9fc01ea14"
      },
      "execution_count": 9,
      "outputs": [
        {
          "output_type": "execute_result",
          "data": {
            "text/plain": [
              "(2, 5)"
            ]
          },
          "metadata": {},
          "execution_count": 9
        }
      ]
    },
    {
      "cell_type": "code",
      "source": [
        "# Zeros and Ones\n",
        "a1 = np.zeros((3,4), dtype=\"uint32\")\n",
        "a1[0,3] = 42\n",
        "a1[1,1] = 66\n",
        "a1"
      ],
      "metadata": {
        "colab": {
          "base_uri": "https://localhost:8080/"
        },
        "id": "GIXV5X3noVBe",
        "outputId": "b063ef6c-f092-4336-821d-d6933997b4f8"
      },
      "execution_count": 11,
      "outputs": [
        {
          "output_type": "execute_result",
          "data": {
            "text/plain": [
              "array([[ 0,  0,  0, 42],\n",
              "       [ 0, 66,  0,  0],\n",
              "       [ 0,  0,  0,  0]], dtype=uint32)"
            ]
          },
          "metadata": {},
          "execution_count": 11
        }
      ]
    },
    {
      "cell_type": "code",
      "source": [
        "#Ones\n",
        "b1 = 11*np.ones((3,1))\n",
        "b1"
      ],
      "metadata": {
        "colab": {
          "base_uri": "https://localhost:8080/"
        },
        "id": "fkhOoWlao3Qh",
        "outputId": "348d7fcb-be4b-4aee-a532-4a95a85eaead"
      },
      "execution_count": 12,
      "outputs": [
        {
          "output_type": "execute_result",
          "data": {
            "text/plain": [
              "array([[11.],\n",
              "       [11.],\n",
              "       [11.]])"
            ]
          },
          "metadata": {},
          "execution_count": 12
        }
      ]
    },
    {
      "cell_type": "code",
      "source": [
        "#INdexing\n",
        "a3 = np.arange(12).reshape((3,4)) \n",
        "a3"
      ],
      "metadata": {
        "colab": {
          "base_uri": "https://localhost:8080/"
        },
        "id": "8ryxZdCFqnpt",
        "outputId": "c11e61c6-d59e-42c9-a01e-6b525b342bf2"
      },
      "execution_count": 15,
      "outputs": [
        {
          "output_type": "execute_result",
          "data": {
            "text/plain": [
              "array([[ 0,  1,  2,  3],\n",
              "       [ 4,  5,  6,  7],\n",
              "       [ 8,  9, 10, 11]])"
            ]
          },
          "metadata": {},
          "execution_count": 15
        }
      ]
    },
    {
      "cell_type": "code",
      "source": [
        "# return entire subarray\n",
        "a3[1]"
      ],
      "metadata": {
        "colab": {
          "base_uri": "https://localhost:8080/"
        },
        "id": "GK0HBtHmqtme",
        "outputId": "e3b602b6-0d28-4720-d1a6-d94ba4c4ec2e"
      },
      "execution_count": 16,
      "outputs": [
        {
          "output_type": "execute_result",
          "data": {
            "text/plain": [
              "array([4, 5, 6, 7])"
            ]
          },
          "metadata": {},
          "execution_count": 16
        }
      ]
    },
    {
      "cell_type": "code",
      "source": [
        "a3[1] = [44,55,66,77]"
      ],
      "metadata": {
        "id": "KyHxZYiMq1Hg"
      },
      "execution_count": 17,
      "outputs": []
    },
    {
      "cell_type": "code",
      "source": [
        "a3"
      ],
      "metadata": {
        "colab": {
          "base_uri": "https://localhost:8080/"
        },
        "id": "p3fJehvhq6kF",
        "outputId": "f1d1d804-17e3-4163-948b-976fc14ef233"
      },
      "execution_count": 18,
      "outputs": [
        {
          "output_type": "execute_result",
          "data": {
            "text/plain": [
              "array([[ 0,  1,  2,  3],\n",
              "       [44, 55, 66, 77],\n",
              "       [ 8,  9, 10, 11]])"
            ]
          },
          "metadata": {},
          "execution_count": 18
        }
      ]
    },
    {
      "cell_type": "code",
      "source": [
        "# return the first two rows\n",
        "a3[:2]"
      ],
      "metadata": {
        "colab": {
          "base_uri": "https://localhost:8080/"
        },
        "id": "63_dkSnCruGf",
        "outputId": "132128e0-736b-4ab2-a03f-2de17e3f8425"
      },
      "execution_count": 19,
      "outputs": [
        {
          "output_type": "execute_result",
          "data": {
            "text/plain": [
              "array([[ 0,  1,  2,  3],\n",
              "       [44, 55, 66, 77]])"
            ]
          },
          "metadata": {},
          "execution_count": 19
        }
      ]
    },
    {
      "cell_type": "code",
      "source": [
        "# taking the first two rows and first three columns\n",
        "a3[:2,:3]"
      ],
      "metadata": {
        "colab": {
          "base_uri": "https://localhost:8080/"
        },
        "id": "AYjVfpUgsD55",
        "outputId": "a2d426a4-9733-44f8-dbec-99fbb3989623"
      },
      "execution_count": 21,
      "outputs": [
        {
          "output_type": "execute_result",
          "data": {
            "text/plain": [
              "array([[ 0,  1,  2],\n",
              "       [44, 55, 66]])"
            ]
          },
          "metadata": {},
          "execution_count": 21
        }
      ]
    },
    {
      "cell_type": "code",
      "source": [
        "# Reverse the dimentio\n",
        "a[::-1]"
      ],
      "metadata": {
        "colab": {
          "base_uri": "https://localhost:8080/"
        },
        "id": "RpJg9_xqt07U",
        "outputId": "4d8858a7-f809-4dba-beaf-e5752ea421ac"
      },
      "execution_count": 23,
      "outputs": [
        {
          "output_type": "execute_result",
          "data": {
            "text/plain": [
              "array([5, 4, 3, 2, 1])"
            ]
          },
          "metadata": {},
          "execution_count": 23
        }
      ]
    },
    {
      "cell_type": "markdown",
      "source": [
        "### 3D - three-dimention array"
      ],
      "metadata": {
        "id": "nxBGIY5ezUmR"
      }
    },
    {
      "cell_type": "code",
      "source": [
        "\n",
        "a4 = np.arange(24).reshape((4,3,2))\n",
        "a4"
      ],
      "metadata": {
        "id": "psQvTL1buK9A"
      },
      "execution_count": null,
      "outputs": []
    },
    {
      "cell_type": "code",
      "source": [
        "a4[1,:,:] = [[11,22],[33,44],[55,66]]\n",
        "a4"
      ],
      "metadata": {
        "id": "5Dh88nwDvCmH"
      },
      "execution_count": null,
      "outputs": []
    },
    {
      "cell_type": "code",
      "source": [
        "a4[2,...]=[[99,99],[99,99],[99,99]]\n",
        "a4"
      ],
      "metadata": {
        "id": "NsLUhDljvoH7"
      },
      "execution_count": null,
      "outputs": []
    },
    {
      "cell_type": "markdown",
      "source": [
        "### Reading and Writing to Disk"
      ],
      "metadata": {
        "id": "i3dDFu4DzOkr"
      }
    },
    {
      "cell_type": "code",
      "source": [
        "\n",
        "a5 = np.random.randint(0,5,(3,4))\n",
        "a5"
      ],
      "metadata": {
        "colab": {
          "base_uri": "https://localhost:8080/"
        },
        "id": "6TGcVN9EwHC2",
        "outputId": "6182ae08-9bb2-4796-b683-66f005cf4c91"
      },
      "execution_count": 28,
      "outputs": [
        {
          "output_type": "execute_result",
          "data": {
            "text/plain": [
              "array([[3, 1, 3, 0],\n",
              "       [1, 2, 2, 1],\n",
              "       [0, 2, 1, 1]])"
            ]
          },
          "metadata": {},
          "execution_count": 28
        }
      ]
    },
    {
      "cell_type": "code",
      "source": [
        "np.save(\"random.npy\",a5)\n",
        "b5=np.load(\"random.npy\")\n",
        "b5"
      ],
      "metadata": {
        "colab": {
          "base_uri": "https://localhost:8080/"
        },
        "id": "NT3_8ZWszmlh",
        "outputId": "850145ff-f04c-468f-e909-3ab4a2431c88"
      },
      "execution_count": 29,
      "outputs": [
        {
          "output_type": "execute_result",
          "data": {
            "text/plain": [
              "array([[3, 1, 3, 0],\n",
              "       [1, 2, 2, 1],\n",
              "       [0, 2, 1, 1]])"
            ]
          },
          "metadata": {},
          "execution_count": 29
        }
      ]
    },
    {
      "cell_type": "markdown",
      "source": [
        "## SciPy\n"
      ],
      "metadata": {
        "id": "UdrbJGwk0DAa"
      }
    },
    {
      "cell_type": "code",
      "source": [
        "import scipy\n",
        "scipy.__version__"
      ],
      "metadata": {
        "colab": {
          "base_uri": "https://localhost:8080/",
          "height": 35
        },
        "id": "hb6V18CD0Flx",
        "outputId": "8e2f65e2-98c2-4d70-90d2-3175a679e334"
      },
      "execution_count": 30,
      "outputs": [
        {
          "output_type": "execute_result",
          "data": {
            "text/plain": [
              "'1.10.1'"
            ],
            "application/vnd.google.colaboratory.intrinsic+json": {
              "type": "string"
            }
          },
          "metadata": {},
          "execution_count": 30
        }
      ]
    },
    {
      "cell_type": "markdown",
      "source": [
        "P-value -  p-value of 0.05 or less is generally considered to be statistically significant, meaning that the results are unlikely to have occurred by chance. A probility near 1 means we have a lot of cinfidence that the two sets are from the same process"
      ],
      "metadata": {
        "id": "S70wXHW59m4S"
      }
    },
    {
      "cell_type": "code",
      "source": [
        "# load ttest_ind function from SciPy stats module\n",
        "# this function take two sets of data and asks question: Do these sets of data have the same average value?\n",
        "# OR - how strongly can we belive that the same process generated these two sets of data?\n",
        "from scipy.stats import ttest_ind \n",
        "# \n",
        "a5 = np.random.normal(0,1,1000)\n",
        "b5 = np.random.normal(0,0.5,1000)\n",
        "c5 = np.random.normal(0.1,1,1000)\n",
        "ttest_ind(a,b)\n",
        "# Evaluate its result is to look at p-value\n",
        "# p-value - probility that the two sets would have the measured difference in average value if the came from the same generating process\n",
        "# P-values are a statistical measure that tells you how likely it is that your results could have happened by chance.\n",
        "# A p-value of 0.05 or less is generally considered to be statistically significant, meaning that the results are unlikely to have occurred by chance.\n"
      ],
      "metadata": {
        "colab": {
          "base_uri": "https://localhost:8080/"
        },
        "id": "x5gf-c_K0N-O",
        "outputId": "533db69c-86de-4db0-d046-e71d579bccfb"
      },
      "execution_count": 31,
      "outputs": [
        {
          "output_type": "stream",
          "name": "stderr",
          "text": [
            "<ipython-input-31-39f9b072483b>:5: RuntimeWarning: Precision loss occurred in moment calculation due to catastrophic cancellation. This occurs when the data are nearly identical. Results may be unreliable.\n",
            "  ttest_ind(a,b)\n"
          ]
        },
        {
          "output_type": "execute_result",
          "data": {
            "text/plain": [
              "Ttest_indResult(statistic=array([-0.28171808, -0.3509312 , -0.84515425, -0.77151675, -2.53546276]), pvalue=array([0.78944738, 0.73994226, 0.43658806, 0.47526343, 0.0521814 ]))"
            ]
          },
          "metadata": {},
          "execution_count": 31
        }
      ]
    }
  ]
}